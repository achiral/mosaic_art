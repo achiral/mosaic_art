{
  "nbformat": 4,
  "nbformat_minor": 0,
  "metadata": {
    "colab": {
      "provenance": [],
      "authorship_tag": "ABX9TyOxytF6l3otoO9QUnWzUhUM",
      "include_colab_link": true
    },
    "kernelspec": {
      "name": "python3",
      "display_name": "Python 3"
    },
    "language_info": {
      "name": "python"
    }
  },
  "cells": [
    {
      "cell_type": "markdown",
      "metadata": {
        "id": "view-in-github",
        "colab_type": "text"
      },
      "source": [
        "<a href=\"https://colab.research.google.com/github/achiral/mosaic_art/blob/main/gh_mosaic_art.ipynb\" target=\"_parent\"><img src=\"https://colab.research.google.com/assets/colab-badge.svg\" alt=\"Open In Colab\"/></a>"
      ]
    },
    {
      "cell_type": "markdown",
      "source": [
        "### preparation"
      ],
      "metadata": {
        "id": "Pm1d5r6mJ3hk"
      }
    },
    {
      "cell_type": "code",
      "source": [
        "# mount google drive\n",
        "from google.colab import drive\n",
        "drive.mount('/content/gdrive')"
      ],
      "metadata": {
        "id": "u984CvWyrsrJ"
      },
      "execution_count": null,
      "outputs": []
    },
    {
      "cell_type": "code",
      "source": [
        "# make dataset directories\n",
        "!mkdir ./dataset\n",
        "!mkdir /content/output"
      ],
      "metadata": {
        "id": "Aora1XAtrynF"
      },
      "execution_count": null,
      "outputs": []
    },
    {
      "cell_type": "code",
      "source": [
        "# material: blocks.zip\n",
        "!cp \"./gdrive/MyDrive/dataset/blocks.zip\" \"./dataset\"\n",
        "\n",
        "# target image (*.png, *.jpg)\n",
        "!cp \"./gdrive/MyDrive/dataset/target.png\" \"./dataset\""
      ],
      "metadata": {
        "id": "2sE97ZbIxL9Q"
      },
      "execution_count": null,
      "outputs": []
    },
    {
      "cell_type": "code",
      "source": [
        "# unzip material dataset\n",
        "!unzip ./dataset/blocks.zip -d ./dataset\n",
        "\n",
        "# count data\n",
        "!find dataset/* -type f | wc -l"
      ],
      "metadata": {
        "id": "AMgLo9E9xYPf"
      },
      "execution_count": null,
      "outputs": []
    },
    {
      "cell_type": "markdown",
      "source": [
        "### run mosaic art"
      ],
      "metadata": {
        "id": "UN1eIPDUJY09"
      }
    },
    {
      "cell_type": "code",
      "source": [
        "%cd /content"
      ],
      "metadata": {
        "id": "S2vMkTaR2Eyi"
      },
      "execution_count": null,
      "outputs": []
    },
    {
      "cell_type": "code",
      "source": [
        "import numpy as np\n",
        "import cv2\n",
        "import glob"
      ],
      "metadata": {
        "id": "L_sYQI62JhvO"
      },
      "execution_count": null,
      "outputs": []
    },
    {
      "cell_type": "code",
      "source": [
        "# IMG_PATH = './images/*.png'          # material image path\n",
        "IMG_PATH = R\"./dataset/blocks/*.png\"  # material image path\n",
        "\n",
        "INPUT_PATH = R\"./dataset/target.png\"  # target image path\n",
        "MULTIPLY = 2                           # magnify target image"
      ],
      "metadata": {
        "id": "gICzD-ZKJvl9"
      },
      "execution_count": null,
      "outputs": []
    },
    {
      "cell_type": "code",
      "source": [
        "# files = glob.glob('./images/*.png')\n",
        "files = glob.glob(IMG_PATH)\n",
        "size = 50    # resize into 50x50\n",
        " \n",
        "small_img = []\n",
        " \n",
        "for file in files:\n",
        "    image = cv2.imread(file)\n",
        "    image = cv2.resize(image, (size, size))\n",
        "    image = image /255\n",
        "    small_img.append(image)\n",
        " \n",
        "small_img = np.asarray(small_img)\n",
        "pic_filename = INPUT_PATH                 # target image path\n",
        " \n",
        "big_img = cv2.imread(pic_filename)\n",
        "height = (big_img.shape[0] - big_img.shape[0] % size) * 2 * MULTIPLY\n",
        "width = (big_img.shape[1] - big_img.shape[1] % size) * 2 * MULTIPLY\n",
        " \n",
        "big_img = big_img / 255\n",
        "big_img = np.asarray(big_img)\n",
        "big_img = cv2.resize(big_img, (width, height))\n",
        " \n",
        "for i in range(int(height / size)):\n",
        "    print('%d / %d' %(i + 1, int(height / size)))\n",
        " \n",
        "    for j in range(int(width / size)):\n",
        "        cut = big_img[size * i: size * (i + 1), size * j: size * (j + 1)]\n",
        "        losses = [] \n",
        "        \n",
        "        # search marial image (small_img) similar to target image color\n",
        "        for s_img in small_img:\n",
        "            loss = cut - s_img\n",
        "            loss = loss * loss\n",
        "            loss = np.sum(loss)\n",
        "            losses.append(loss) \n",
        "     \n",
        "        losses = np.asarray(losses)\n",
        "        big_img[size * i: size * (i + 1), size * j: size * (j + 1)] = small_img[np.argmin(losses)]\n",
        " \n",
        "big_img = (big_img * 255).astype(np.int64)\n",
        "cv2.imwrite('out.png', big_img)"
      ],
      "metadata": {
        "id": "VS59xvdbJgWs"
      },
      "execution_count": null,
      "outputs": []
    },
    {
      "cell_type": "markdown",
      "source": [
        "### colab2drive"
      ],
      "metadata": {
        "id": "DMWFiSov5JRh"
      }
    },
    {
      "cell_type": "code",
      "source": [
        "!cp \"out.png\" \"./gdrive/MyDrive/dataset/out.png\"\n",
        "print(\"----- finished -----\")"
      ],
      "metadata": {
        "id": "ooizKHOu4s9j"
      },
      "execution_count": null,
      "outputs": []
    }
  ]
}