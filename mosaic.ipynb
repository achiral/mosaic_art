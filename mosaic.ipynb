{
  "nbformat": 4,
  "nbformat_minor": 0,
  "metadata": {
    "colab": {
      "provenance": [],
      "authorship_tag": "ABX9TyNCeAfB30W1+6OcxSlF1b1r",
      "include_colab_link": true
    },
    "kernelspec": {
      "name": "python3",
      "display_name": "Python 3"
    },
    "language_info": {
      "name": "python"
    }
  },
  "cells": [
    {
      "cell_type": "markdown",
      "metadata": {
        "id": "view-in-github",
        "colab_type": "text"
      },
      "source": [
        "<a href=\"https://colab.research.google.com/github/achiral/mosaic_art/blob/main/mosaic.ipynb\" target=\"_parent\"><img src=\"https://colab.research.google.com/assets/colab-badge.svg\" alt=\"Open In Colab\"/></a>"
      ]
    },
    {
      "cell_type": "markdown",
      "source": [
        "### preparation"
      ],
      "metadata": {
        "id": "Pm1d5r6mJ3hk"
      }
    },
    {
      "cell_type": "code",
      "source": [
        "# google driveからcolaboにファイルをコピーするメソッド\n",
        "import requests\n",
        "\n",
        "def download_file_from_google_drive(id, destination):\n",
        "    print('---- download_file_from_google_drive start ----')\n",
        "    URL = \"https://docs.google.com/uc?export=download\"\n",
        "\n",
        "    try:\n",
        "        session = requests.Session()\n",
        "\n",
        "        response = session.get(URL, params = { 'id' : id }, stream = True)\n",
        "        print('response.status_code: {}'.format(response.status_code))\n",
        "        print('response.headers: {}'.format(response.headers))\n",
        "\n",
        "        token = get_confirm_token(response)\n",
        "        print('token'.format(token))\n",
        "\n",
        "        if token:\n",
        "            print(token)\n",
        "            params = { 'id' : id, 'confirm' : token }\n",
        "            response = session.get(URL, params = params, stream = True)\n",
        "\n",
        "        save_response_content(response, destination)\n",
        "    except Exception as e:\n",
        "        print(e)\n",
        "\n",
        "\n",
        "def get_confirm_token(response):\n",
        "    for key, value in response.cookies.items():\n",
        "        print('key: {}'.format(key))\n",
        "        print('value: {}'.format(value))\n",
        "       \n",
        "        if key.startswith('download_warning'):\n",
        "            return value\n",
        "            \n",
        "        if key == 'NID':\n",
        "            print('NID')\n",
        "            token = value.split('=')\n",
        "            print(token)\n",
        "            return token[1]\n",
        "\n",
        "    return None\n",
        "\n",
        "def save_response_content(response, destination):\n",
        "    CHUNK_SIZE = 32768\n",
        "\n",
        "    with open(destination, \"wb\") as f:\n",
        "        for chunk in response.iter_content(CHUNK_SIZE):\n",
        "            if chunk: # filter out keep-alive new chunks\n",
        "                f.write(chunk)"
      ],
      "metadata": {
        "id": "wX9smnFprTyg"
      },
      "execution_count": 1,
      "outputs": []
    },
    {
      "cell_type": "code",
      "source": [
        "# 実行環境のrootディレクトリの確認\n",
        "# %cd /content/\n",
        "# !ls -lah"
      ],
      "metadata": {
        "id": "11yngIK1rpaj"
      },
      "execution_count": null,
      "outputs": []
    },
    {
      "cell_type": "code",
      "source": [
        "# Google driveマウント\n",
        "from google.colab import drive\n",
        "drive.mount('/content/gdrive')\n",
        "\n",
        "# マウントしたGoogle Drive情報の確認\n",
        "!ls gdrive -lah"
      ],
      "metadata": {
        "id": "u984CvWyrsrJ",
        "colab": {
          "base_uri": "https://localhost:8080/"
        },
        "outputId": "54a562d1-a5ea-4d38-9929-edb41fbc1956"
      },
      "execution_count": 2,
      "outputs": [
        {
          "output_type": "stream",
          "name": "stdout",
          "text": [
            "Mounted at /content/gdrive\n",
            "total 16K\n",
            "dr-x------  2 root root 4.0K Dec 21 08:36 .file-revisions-by-id\n",
            "drwx------ 10 root root 4.0K Dec 21 08:36 MyDrive\n",
            "dr-x------  2 root root 4.0K Dec 21 08:36 .shortcut-targets-by-id\n",
            "drwx------  5 root root 4.0K Dec 21 08:36 .Trash-0\n"
          ]
        }
      ]
    },
    {
      "cell_type": "code",
      "source": [
        "# datasetを配置するディレクトリを作成\n",
        "!mkdir ./dataset\n",
        "!mkdir /content/output"
      ],
      "metadata": {
        "id": "Aora1XAtrynF"
      },
      "execution_count": 3,
      "outputs": []
    },
    {
      "cell_type": "code",
      "source": [
        "# %cd /content/gdrive/MyDrive/'Colab Notebooks'/lightweight-gan/results\n",
        "# # フォルダを zip 圧縮する\n",
        "# !zip -r ./inner-generated-100.zip ./inner-generated-100\n",
        "\n",
        "\n",
        "# # 圧縮した zip ファイルをダウンロードする\n",
        "# # from google.colab import files\n",
        "# # files.download(\"./inner-generated-100.zip\")\n",
        "\n",
        "# %cd /content\n",
        "# %pwd"
      ],
      "metadata": {
        "id": "LT52JDOCxJ2a"
      },
      "execution_count": null,
      "outputs": []
    },
    {
      "cell_type": "markdown",
      "source": [
        "### 画像の準備"
      ],
      "metadata": {
        "id": "iBm4H8ux0zyq"
      }
    },
    {
      "cell_type": "code",
      "source": [
        "# dataset(zipでgdriveに格納)をColabにコピー\n",
        "# datasetのサイズによって時間がかかる\n",
        "%%time\n",
        "# !cp \"./gdrive/MyDrive/dataset/endless_summer.zip\" \"./dataset\"\n",
        "# !cp \"./gdrive/MyDrive/dataset/amime_128_mini.zip\" \"./dataset\"\n",
        "# !cp \"./gdrive/MyDrive/dataset/inner_512.zip\" \"./dataset\"\n",
        "# !cp \"./gdrive/MyDrive/dataset/inner2_512.zip\" \"./dataset\"\n",
        "# !cp \"./gdrive/MyDrive/dataset/inner3_512.zip\" \"./dataset\"\n",
        "# !cp \"./gdrive/MyDrive/dataset/inner3_2048.zip\" \"./dataset\"\n",
        "# !cp \"./gdrive/MyDrive/dataset/inner3_2048alpha.zip\" \"./dataset\"\n",
        "# !cp \"./gdrive/MyDrive/dataset/face1024.zip\" \"./dataset\"\n",
        "# !cp \"./gdrive/MyDrive/dataset/skin_512.zip\" \"./dataset\"\n",
        "# !cp \"./gdrive/MyDrive/dataset/skin_2048.zip\" \"./dataset\"\n",
        "# !cp \"./gdrive/MyDrive/dataset/onepiece_512.zip\" \"./dataset\"\n",
        "# !cp \"/content/gdrive/MyDrive/Colab Notebooks/lightweight-gan/results/inner-generated-100.zip\" \"./dataset\"\n",
        "# !cp \"./gdrive/MyDrive/dataset/another_anime_face_256.zip\" \"./dataset\"\n",
        "!cp \"./gdrive/MyDrive/dataset/blocks.zip\" \"./dataset\"\n",
        "\n",
        "# 目的(target)の画像をコピー\n",
        "!cp \"./gdrive/MyDrive/dataset/target.jpg\" \"./dataset\"\n",
        "!cp \"./gdrive/MyDrive/dataset/target2.png\" \"./dataset\"\n",
        "!cp \"./gdrive/MyDrive/dataset/target3.png\" \"./dataset\"\n",
        "\n",
        "# %cd /content\n",
        "# %pwd"
      ],
      "metadata": {
        "colab": {
          "base_uri": "https://localhost:8080/"
        },
        "id": "2sE97ZbIxL9Q",
        "outputId": "ab08babd-3284-45e0-d678-c5b2b121c805"
      },
      "execution_count": 12,
      "outputs": [
        {
          "output_type": "stream",
          "name": "stdout",
          "text": [
            "CPU times: user 21.1 ms, sys: 34.5 ms, total: 55.6 ms\n",
            "Wall time: 1.07 s\n"
          ]
        }
      ]
    },
    {
      "cell_type": "markdown",
      "source": [
        "### 画像のコピーと解凍"
      ],
      "metadata": {
        "id": "79xk89qY0-Qd"
      }
    },
    {
      "cell_type": "code",
      "source": [
        "# コピー(またはダウンロード)したdataset解凍\n",
        "%%time\n",
        "# !unzip ./dataset/endless_summer.zip -d ./dataset\n",
        "# !unzip ./dataset/amime_128_mini.zip -d ./dataset\n",
        "# !unzip ./dataset/inner_512.zip -d ./dataset\n",
        "# !unzip ./dataset/inner2_512.zip -d ./dataset\n",
        "# !unzip ./dataset/inner3_512.zip -d ./dataset\n",
        "# !unzip ./dataset/inner3_2048.zip -d ./dataset\n",
        "# !unzip ./dataset/inner3_2048alpha.zip -d ./dataset\n",
        "# !unzip ./dataset/face1024.zip -d ./dataset\n",
        "# !unzip ./dataset/skin_512.zip -d ./dataset\n",
        "# !unzip ./dataset/skin_2048.zip -d ./dataset\n",
        "# !unzip ./dataset/onepiece_512.zip -d ./dataset\n",
        "# !unzip ./dataset/inner-generated-100.zip -d ./dataset\n",
        "# !unzip ./dataset/another_anime_face_256.zip -d ./dataset\n",
        "!unzip ./dataset/blocks.zip -d ./dataset\n",
        "\n",
        "\n",
        "# データ件数の確認\n",
        "!find dataset/* -type f | wc -l"
      ],
      "metadata": {
        "id": "AMgLo9E9xYPf",
        "colab": {
          "base_uri": "https://localhost:8080/"
        },
        "outputId": "c832cee1-b3cf-477d-8b82-0dda33a56bb8"
      },
      "execution_count": 13,
      "outputs": [
        {
          "output_type": "stream",
          "name": "stdout",
          "text": [
            "Archive:  ./dataset/blocks.zip\n",
            "replace ./dataset/__MACOSX/._blocks? [y]es, [n]o, [A]ll, [N]one, [r]ename: n\n",
            "replace ./dataset/blocks/weathered_cut_copper.png? [y]es, [n]o, [A]ll, [N]one, [r]ename: n\n",
            "replace ./dataset/__MACOSX/blocks/._weathered_cut_copper.png? [y]es, [n]o, [A]ll, [N]one, [r]ename: n\n",
            "replace ./dataset/blocks/glass_blue.png? [y]es, [n]o, [A]ll, [N]one, [r]ename: none\n",
            "replace ./dataset/__MACOSX/blocks/._glass_blue.png? [y]es, [n]o, [A]ll, [N]one, [r]ename: N\n",
            "1927\n",
            "CPU times: user 490 ms, sys: 80.2 ms, total: 570 ms\n",
            "Wall time: 1min 12s\n"
          ]
        }
      ]
    },
    {
      "cell_type": "code",
      "source": [
        "# 作業ディレクトリの移動\n",
        "# %cd /content/gdrive/MyDrive/'Colab Notebooks'/lightweight-gan\n",
        "%pwd\n",
        "%ls -al"
      ],
      "metadata": {
        "colab": {
          "base_uri": "https://localhost:8080/"
        },
        "id": "zqrKreWoxiTe",
        "outputId": "62de1bbc-3ca4-48a8-cd3d-ebd8b03ee655"
      },
      "execution_count": 14,
      "outputs": [
        {
          "output_type": "stream",
          "name": "stdout",
          "text": [
            "total 28\n",
            "drwxr-xr-x 1 root root 4096 Dec 21 08:36 \u001b[0m\u001b[01;34m.\u001b[0m/\n",
            "drwxr-xr-x 1 root root 4096 Dec 21 08:35 \u001b[01;34m..\u001b[0m/\n",
            "drwxr-xr-x 4 root root 4096 Dec 19 14:30 \u001b[01;34m.config\u001b[0m/\n",
            "drwxr-xr-x 4 root root 4096 Dec 21 08:39 \u001b[01;34mdataset\u001b[0m/\n",
            "drwx------ 5 root root 4096 Dec 21 08:36 \u001b[01;34mgdrive\u001b[0m/\n",
            "drwxr-xr-x 2 root root 4096 Dec 21 08:36 \u001b[01;34moutput\u001b[0m/\n",
            "drwxr-xr-x 1 root root 4096 Dec 19 14:31 \u001b[01;34msample_data\u001b[0m/\n"
          ]
        }
      ]
    },
    {
      "cell_type": "markdown",
      "source": [
        "#mosaic art #1"
      ],
      "metadata": {
        "id": "UN1eIPDUJY09"
      }
    },
    {
      "cell_type": "code",
      "source": [
        "%cd /content\n",
        "%pwd"
      ],
      "metadata": {
        "colab": {
          "base_uri": "https://localhost:8080/",
          "height": 53
        },
        "id": "S2vMkTaR2Eyi",
        "outputId": "118d317c-b0e8-4f8b-9638-69600bdce1e1"
      },
      "execution_count": 22,
      "outputs": [
        {
          "output_type": "stream",
          "name": "stdout",
          "text": [
            "/content\n"
          ]
        },
        {
          "output_type": "execute_result",
          "data": {
            "text/plain": [
              "'/content'"
            ],
            "application/vnd.google.colaboratory.intrinsic+json": {
              "type": "string"
            }
          },
          "metadata": {},
          "execution_count": 22
        }
      ]
    },
    {
      "cell_type": "code",
      "source": [
        "import numpy as np\n",
        "import cv2\n",
        "import glob"
      ],
      "metadata": {
        "id": "L_sYQI62JhvO"
      },
      "execution_count": 9,
      "outputs": []
    },
    {
      "cell_type": "code",
      "source": [
        "# IMG_PATH = './images/*.png'          # モザイク素材画像のパス\n",
        "IMG_PATH = R\"./dataset/blocks/*.png\"  # モザイク素材画像のパス\n",
        "# INPUT_PATH = R\"./dataset/target.jpg\"  # モザイク写真にしたい画像のパス\n",
        "# INPUT_PATH = R\"./dataset/target.png\"  # モザイク写真にしたい画像のパス\n",
        "# INPUT_PATH = R\"./dataset/target1.jpg\"  # モザイク写真にしたい画像のパス\n",
        "# INPUT_PATH = R\"./dataset/target1.png\"  # モザイク写真にしたい画像のパス\n",
        "# INPUT_PATH = R\"./dataset/target2.jpg\"  # モザイク写真にしたい画像のパス\n",
        "# INPUT_PATH = R\"./dataset/target2.png\"  # モザイク写真にしたい画像のパス\n",
        "# INPUT_PATH = R\"./dataset/target3.jpg\"  # モザイク写真にしたい画像のパス\n",
        "INPUT_PATH = R\"./dataset/target3.png\"  # モザイク写真にしたい画像のパス\n",
        "MULTIPLY = 1                          # モザイク写真にしたい画像拡大"
      ],
      "metadata": {
        "id": "gICzD-ZKJvl9"
      },
      "execution_count": 40,
      "outputs": []
    },
    {
      "cell_type": "code",
      "source": [
        "# files = glob.glob('./cats/*.jpg')\n",
        "files = glob.glob(IMG_PATH)\n",
        "size = 50    #150×150の画像を50×50にresizeして行列で表す\n",
        " \n",
        "small_img = []\n",
        " \n",
        "for file in files:\n",
        "    image = cv2.imread(file)\n",
        "    image = cv2.resize(image, (size, size))\n",
        "    image = image /255\n",
        "    small_img.append(image)\n",
        " \n",
        "small_img = np.asarray(small_img)\n",
        "pic_filename = INPUT_PATH                 #モザイク写真にしたい画像のパス\n",
        " \n",
        "big_img = cv2.imread(pic_filename)         #big_imgのサイズが50で割り切れるように指定する。このサイズを大きくするほど鮮明なモザイク写真ができる\n",
        "height = (big_img.shape[0] - big_img.shape[0] % size) * 10 * MULTIPLY\n",
        "width = (big_img.shape[1] - big_img.shape[1] % size) * 10 * MULTIPLY\n",
        " \n",
        "big_img = big_img / 255\n",
        "big_img = np.asarray(big_img)\n",
        "big_img = cv2.resize(big_img, (width, height))\n",
        " \n",
        "for i in range(int(height / size)):\n",
        "    print('%d / %d' %(i + 1, int(height / size)))\n",
        " \n",
        "    for j in range(int(width / size)):\n",
        "        cut = big_img[size * i: size * (i + 1), size * j: size * (j + 1)]\n",
        "        losses = [] \n",
        "        \n",
        "        #small_imgの中で小さく分けた領域に一番似ているものを探す\n",
        "        for s_img in small_img:\n",
        "            loss = cut - s_img\n",
        "            loss = loss * loss\n",
        "            loss = np.sum(loss)\n",
        "            losses.append(loss) \n",
        "     \n",
        "        losses = np.asarray(losses)\n",
        "        big_img[size * i: size * (i + 1), size * j: size * (j + 1)] = small_img[np.argmin(losses)]\n",
        " \n",
        "big_img = (big_img * 255).astype(np.int64)\n",
        "cv2.imwrite('mosaic.png', big_img)"
      ],
      "metadata": {
        "colab": {
          "base_uri": "https://localhost:8080/"
        },
        "id": "VS59xvdbJgWs",
        "outputId": "9f3228c1-d402-4dc0-a676-a28023d77e8f"
      },
      "execution_count": null,
      "outputs": [
        {
          "output_type": "stream",
          "name": "stdout",
          "text": [
            "1 / 200\n",
            "2 / 200\n",
            "3 / 200\n",
            "4 / 200\n",
            "5 / 200\n",
            "6 / 200\n",
            "7 / 200\n",
            "8 / 200\n",
            "9 / 200\n",
            "10 / 200\n",
            "11 / 200\n",
            "12 / 200\n",
            "13 / 200\n",
            "14 / 200\n",
            "15 / 200\n",
            "16 / 200\n",
            "17 / 200\n",
            "18 / 200\n",
            "19 / 200\n",
            "20 / 200\n",
            "21 / 200\n",
            "22 / 200\n",
            "23 / 200\n",
            "24 / 200\n",
            "25 / 200\n",
            "26 / 200\n",
            "27 / 200\n",
            "28 / 200\n",
            "29 / 200\n",
            "30 / 200\n",
            "31 / 200\n",
            "32 / 200\n",
            "33 / 200\n",
            "34 / 200\n",
            "35 / 200\n",
            "36 / 200\n",
            "37 / 200\n",
            "38 / 200\n",
            "39 / 200\n",
            "40 / 200\n",
            "41 / 200\n",
            "42 / 200\n",
            "43 / 200\n",
            "44 / 200\n",
            "45 / 200\n",
            "46 / 200\n",
            "47 / 200\n",
            "48 / 200\n",
            "49 / 200\n",
            "50 / 200\n",
            "51 / 200\n",
            "52 / 200\n",
            "53 / 200\n",
            "54 / 200\n",
            "55 / 200\n",
            "56 / 200\n",
            "57 / 200\n",
            "58 / 200\n",
            "59 / 200\n",
            "60 / 200\n"
          ]
        }
      ]
    },
    {
      "cell_type": "markdown",
      "source": [
        "### colab2drive"
      ],
      "metadata": {
        "id": "DMWFiSov5JRh"
      }
    },
    {
      "cell_type": "code",
      "source": [
        "# %cd /content\n",
        "# %pwd"
      ],
      "metadata": {
        "id": "LxI9zeTy5RBY"
      },
      "execution_count": 46,
      "outputs": []
    },
    {
      "cell_type": "code",
      "source": [
        "## 圧縮してコピー\n",
        "# !zip -r mosaic.zip mosaic.png \n",
        "# !cp logs/mosaic.zip /content/drive/My\\ Drive/mosaic.zip\n",
        "\n",
        "## 圧縮せずコピー\n",
        "!cp \"mosaic.png\" \"./gdrive/MyDrive/dataset/mosaic.png\"\n",
        "print(\"----- finished copy -----\")"
      ],
      "metadata": {
        "colab": {
          "base_uri": "https://localhost:8080/"
        },
        "id": "ooizKHOu4s9j",
        "outputId": "6d5ea270-ce9a-431b-83d2-fea0f0d448d6"
      },
      "execution_count": 47,
      "outputs": [
        {
          "output_type": "stream",
          "name": "stdout",
          "text": [
            "----- finished copy -----\n"
          ]
        }
      ]
    },
    {
      "cell_type": "code",
      "source": [],
      "metadata": {
        "id": "hBppxvxV4sn7"
      },
      "execution_count": 47,
      "outputs": []
    },
    {
      "cell_type": "markdown",
      "source": [
        "#mosaic art  \n",
        "don't work"
      ],
      "metadata": {
        "id": "-186_RuYqv5A"
      }
    },
    {
      "cell_type": "code",
      "execution_count": 27,
      "metadata": {
        "id": "CWylW05WqroY"
      },
      "outputs": [],
      "source": [
        "# coding:utf-8\n",
        "from PIL import Image,ImageFilter\n",
        "import subprocess\n",
        "import os\n",
        "import random\n",
        "import math\n",
        "import time\n",
        "import numpy as np\n",
        "import glob\n",
        "import cv2"
      ]
    },
    {
      "cell_type": "code",
      "source": [
        "SourceDir = R\"./dataset/blocks\"\n",
        "GoalImage = R\"./dataset/target.jpg\"\n",
        "OutputImage=\"output.jpg\"\n",
        "print(SourceDir)\n",
        "print(GoalImage)\n",
        "print(OutputImage)"
      ],
      "metadata": {
        "colab": {
          "base_uri": "https://localhost:8080/"
        },
        "id": "MrU7HfTxxxpz",
        "outputId": "ece25322-df68-40bd-bf9b-84ceed833548"
      },
      "execution_count": 28,
      "outputs": [
        {
          "output_type": "stream",
          "name": "stdout",
          "text": [
            "./dataset/blocks\n",
            "./dataset/target.jpg\n",
            "output.jpg\n"
          ]
        }
      ]
    },
    {
      "cell_type": "code",
      "source": [
        "SourceImageSize=(16,16)  # (60,40)"
      ],
      "metadata": {
        "id": "0xl-GNZ2y9p5"
      },
      "execution_count": 29,
      "outputs": []
    },
    {
      "cell_type": "code",
      "source": [
        "TargetZoom=11"
      ],
      "metadata": {
        "id": "HgzPp--0zAl5"
      },
      "execution_count": 30,
      "outputs": []
    },
    {
      "cell_type": "code",
      "source": [
        "used_count = 3"
      ],
      "metadata": {
        "id": "SL1p5sJkzDN1"
      },
      "execution_count": 31,
      "outputs": []
    },
    {
      "cell_type": "code",
      "source": [
        "#==============設定===================\n",
        "#素材画像の入っているフォルダ\n",
        "SourceDir = R\"./dataset/blocks\"\n",
        "\n",
        "#目標となる画像\n",
        "GoalImage = R\"./dataset/target.jpg\"\n",
        "\n",
        "#出力の名前\n",
        "OutputImage=\"output.jpg\"\n",
        "\n",
        "#素材の画像のサイズ(読み込み時にここで指定したサイズに変換される)\n",
        "SourceImageSize=(10,10)  # (60,40)\n",
        "\n",
        "#ターゲット画像の倍率\n",
        "TargetZoom=0.01\n",
        "\n",
        "# 画像使用制限\n",
        "used_count = 100000000\n",
        "#=====================================\n",
        "\n",
        "# 目標画像のタイル化\n",
        "# org_image : PILで.open()した画像\n",
        "# height : 素材画像の縦サイズ\n",
        "# width : 素材画像の横サイズ\n",
        "#\n",
        "# return : RectList タイル\n",
        "def __create_tile(org_image,height,width):\n",
        "\n",
        "    # PPIL.Image.open()で読み込んだ画像データを渡すと\n",
        "    # 形状shapeが(行（高さ）, 列（幅）, 色（チャンネル）)の三次元の配列ndarrayが得られる\n",
        "    w, h = org_image.size\n",
        "    RectList=[]\n",
        "    for y in range(0, math.floor(h / height) + 1):\n",
        "        for x in range(0, math.floor(w / width) + 1):\n",
        "            height2 = y * height\n",
        "            width2 = x * width\n",
        "            crap_img = org_image.crop((width2, height2, width2 + width, height2 + height))\n",
        "            # crap_img.show()\n",
        "            RectList.append((crap_img,width2,height2))\n",
        "    return RectList\n",
        "\n",
        "# ヒストグラムを計算する\n",
        "# image : 画像ファイル\n",
        "# return : hist_vec ヒストグラムのベクトル\n",
        "def __clac_hist(img):\n",
        "\n",
        "    hist_list = []\n",
        "    color = ['r','g','b']\n",
        "    images = np.asarray(img)\n",
        "    # カラーヒストグラムはRGBそれぞれ計算する\n",
        "    # そのため、3回ループしている\n",
        "    for i in enumerate(color):\n",
        "        hist_list.append(cv2.calcHist([images],[i[0]],None,[256],[0,256]))\n",
        "    return hist_list\n",
        "\n",
        "if __name__==\"__main__\":\n",
        "\n",
        "    startTime=time.time()\n",
        "\n",
        "    # 目標画像を開きリサイズ\n",
        "    target=Image.open(GoalImage)\n",
        "    target=target.resize(tuple(math.floor(i*TargetZoom) for i in target.size))\n",
        "\n",
        "    # 動画撮影\n",
        "    # fourcc2=cv2.VideoWriter_fourcc(*fourcc)\n",
        "    # v=cv2.VideoWriter(OutputMovie,int(fourcc2),Framerate,target.size)\n",
        "\n",
        "    # 元画像のタイル化\n",
        "    print(\"%s:タイルリストを生成開始\"%(str(time.time()-startTime)))\n",
        "    tiles = __create_tile(target,SourceImageSize[1],SourceImageSize[0])\n",
        "    print(\"%s:タイルリストを生成完了\"%(str(time.time()-startTime)))\n",
        "\n",
        "    # 素材画像ファイル名を取得\n",
        "    # 全素材画像をリサイズする\n",
        "    file_paths = glob.glob(SourceDir+\"\\\\*\")\n",
        "    src_hist_dict = {}\n",
        "    print(\"%s:全素材画像ヒストグラムを計算開始\"%(str(time.time()-startTime)))\n",
        "    for file_path in file_paths:\n",
        "        file_name = file_path.split(\"\\\\\")[-1]\n",
        "\n",
        "        # print(file_name)\n",
        "\n",
        "        # 画像のopenでエラーの場合は次の画像へ\n",
        "        try:\n",
        "            src_image =  Image.open(file_path).resize(SourceImageSize)\n",
        "        except Exception:\n",
        "            continue\n",
        "        # src_image.show()\n",
        "        src_hist_dict[file_name] = [src_image,__clac_hist(src_image),0]\n",
        "    print(\"%s:全素材画像ヒストグラムを計算完了\"%(str(time.time()-startTime)))\n",
        "\n",
        "    # カラーヒストグラム計算 素材画像\n",
        "\n",
        "    Target=Image.new(\"RGB\",target.size,255)\n",
        "\n",
        "    # タイルの数だけループ\n",
        "    print(\"%s:モザイクアート生成開始\"%(str(time.time()-startTime)))\n",
        "    while(len(tiles) > 0):\n",
        "        result = []\n",
        "\n",
        "        print(\"残りタイル：\" + str(len(tiles)))\n",
        "        r=random.randrange(len(tiles)) # タイルの中からランダムで1つ選択\n",
        "        tileRect=tiles[r]\n",
        "        del tiles[r]\n",
        "        # タイルのカラーヒスとグラムを取得する。\n",
        "        tile_hist = __clac_hist(tileRect[0])\n",
        "        # RGBを同じベクトルにする\n",
        "        tile_hist = np.array(tile_hist)\n",
        "        tile_hist = tile_hist.reshape(tile_hist.shape[0] * tile_hist.shape[1], 1)\n",
        "\n",
        "        # 元画像のタイルと素材のヒストグラムを比較\n",
        "        for file_name,src_hist in src_hist_dict.items():\n",
        "            src_hist = np.array(src_hist[1])\n",
        "            src_hist = src_hist.reshape(src_hist.shape[0] * src_hist.shape[1], 1)\n",
        "\n",
        "            d = cv2.compareHist(tile_hist, src_hist, cv2.HISTCMP_INTERSECT)\n",
        "            result.append([d,file_name])\n",
        "        result.sort(reverse=True) # ソート\n",
        "\n",
        "        # ファイルの置き換え\n",
        "        Target.paste(src_hist_dict[result[0][1]][0],(tileRect[1],tileRect[2]))\n",
        "\n",
        "        # 画像使用カウントアップ\n",
        "        src_hist_dict[result[0][1]][2] = src_hist_dict[result[0][1]][2] + 1\n",
        "\n",
        "        # カウントが一定値に達したら\n",
        "        if src_hist_dict[result[0][1]][2] == used_count:\n",
        "            del src_hist_dict[result[0][1]]\n",
        "\n",
        "        # print(\"ファイル名 : \" + result[0][1])\n",
        "        # print(\"x座標 : \" + str(tileRect[1]))\n",
        "        # print(\"y座標 : \" + str(tileRect[2]))\n",
        "\n",
        "        # Target.show()\n",
        "\n",
        "    print(\"%s:モザイクアート生成完了\"%(str(time.time()-startTime)))\n",
        "    Target.save(OutputImage)\n",
        "    # v.release()"
      ],
      "metadata": {
        "colab": {
          "base_uri": "https://localhost:8080/",
          "height": 351
        },
        "id": "Lt2mwfPdrNL_",
        "outputId": "4c038022-61cc-48ce-df42-3496d8b9a938"
      },
      "execution_count": 33,
      "outputs": [
        {
          "output_type": "stream",
          "name": "stdout",
          "text": [
            "0.4345431327819824:タイルリストを生成開始\n",
            "0.43557167053222656:タイルリストを生成完了\n",
            "0.4374699592590332:全素材画像ヒストグラムを計算開始\n",
            "0.4375312328338623:全素材画像ヒストグラムを計算完了\n",
            "0.4385383129119873:モザイクアート生成開始\n",
            "残りタイル：20\n"
          ]
        },
        {
          "output_type": "error",
          "ename": "IndexError",
          "evalue": "ignored",
          "traceback": [
            "\u001b[0;31m---------------------------------------------------------------------------\u001b[0m",
            "\u001b[0;31mIndexError\u001b[0m                                Traceback (most recent call last)",
            "\u001b[0;32m<ipython-input-33-aad1056637f5>\u001b[0m in \u001b[0;36m<module>\u001b[0;34m\u001b[0m\n\u001b[1;32m    119\u001b[0m \u001b[0;34m\u001b[0m\u001b[0m\n\u001b[1;32m    120\u001b[0m         \u001b[0;31m# ファイルの置き換え\u001b[0m\u001b[0;34m\u001b[0m\u001b[0;34m\u001b[0m\u001b[0;34m\u001b[0m\u001b[0m\n\u001b[0;32m--> 121\u001b[0;31m         \u001b[0mTarget\u001b[0m\u001b[0;34m.\u001b[0m\u001b[0mpaste\u001b[0m\u001b[0;34m(\u001b[0m\u001b[0msrc_hist_dict\u001b[0m\u001b[0;34m[\u001b[0m\u001b[0mresult\u001b[0m\u001b[0;34m[\u001b[0m\u001b[0;36m0\u001b[0m\u001b[0;34m]\u001b[0m\u001b[0;34m[\u001b[0m\u001b[0;36m1\u001b[0m\u001b[0;34m]\u001b[0m\u001b[0;34m]\u001b[0m\u001b[0;34m[\u001b[0m\u001b[0;36m0\u001b[0m\u001b[0;34m]\u001b[0m\u001b[0;34m,\u001b[0m\u001b[0;34m(\u001b[0m\u001b[0mtileRect\u001b[0m\u001b[0;34m[\u001b[0m\u001b[0;36m1\u001b[0m\u001b[0;34m]\u001b[0m\u001b[0;34m,\u001b[0m\u001b[0mtileRect\u001b[0m\u001b[0;34m[\u001b[0m\u001b[0;36m2\u001b[0m\u001b[0;34m]\u001b[0m\u001b[0;34m)\u001b[0m\u001b[0;34m)\u001b[0m\u001b[0;34m\u001b[0m\u001b[0;34m\u001b[0m\u001b[0m\n\u001b[0m\u001b[1;32m    122\u001b[0m \u001b[0;34m\u001b[0m\u001b[0m\n\u001b[1;32m    123\u001b[0m         \u001b[0;31m# 画像使用カウントアップ\u001b[0m\u001b[0;34m\u001b[0m\u001b[0;34m\u001b[0m\u001b[0;34m\u001b[0m\u001b[0m\n",
            "\u001b[0;31mIndexError\u001b[0m: list index out of range"
          ]
        }
      ]
    }
  ]
}